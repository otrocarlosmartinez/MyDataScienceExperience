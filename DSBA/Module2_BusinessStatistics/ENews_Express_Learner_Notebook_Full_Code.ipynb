{
 "cells": [
  {
   "cell_type": "markdown",
   "id": "6yDxo9u0d9Na",
   "metadata": {
    "id": "6yDxo9u0d9Na"
   },
   "source": [
    "# Project Business Statistics: E-news Express\n"
   ]
  },
  {
   "cell_type": "markdown",
   "id": "SrLd-ICEmPSD",
   "metadata": {
    "id": "SrLd-ICEmPSD"
   },
   "source": [
    "## Define Problem Statement and Objectives"
   ]
  },
  {
   "cell_type": "markdown",
   "id": "1ba70c11-10f3-4648-8d98-7347737f8703",
   "metadata": {},
   "source": [
    "\n",
    "#### Description\r\n",
    "**Business Context**<br>\r\n",
    "The advent of e-news, or electronic news, portals has offered us a great opportunity to quickly get updates on the day-to-day events occurring globally. The information on these portals is retrieved electronically from online databases, processed using a variety of software, and then transmitted to the users. There are multiple advantages of transmitting new electronically, like faster access to the content and the ability to utilize different technologies such as audio, graphics, video, and other interactive elements that are either not being used or aren’t common yet in traditional newspapers.<br><br>\r\n",
    "E-news Express, an online news portal, aims to expand its business by acquiring new subscribers. With every visitor to the website taking certain actions based on their interest, the company plans to analyze these actions to understand user interests and determine how to drive better engagement. The executives at E-news Express are of the opinion that there has been a decline in new monthly subscribers compared to the past year because the current webpage is not designed well enough in terms of the outline & recommended content to keep customers engaged long enough to make a decision to subscribe.<br><br>\r\n",
    "Companies often analyze user responses to two variants of a product to decide which of the two variants is more effective. This experimental technique, known as **A/B testing**, is used to determine whether a new feature attracts users based on a chosen metric.<br><br>\r\n",
    "**Objective**<br>\r\n",
    "The design team of the company has researched and created a new landing page that has a new outline & more relevant content shown compared to the old page. In order to test the effectiveness of the new landing page in gathering new subscribers, the Data Science team conducted an experiment by randomly selecting 100 users and dividing them equally into two groups. The existing landing page was served to the first group (control group) and the new landing page to the second group (treatment group). Data regarding the interaction of users in both groups with the two versions of the landing page was collected. Being a data scientist in E-news Express, you have been asked to explore the data and perform a statistical analysis (at a significance level of 5%) to **determine the effectiveness of the new landing page in gathering new subscribers for the news portal** by answering the following questions:<br>\r\n",
    "&emsp; 1) Do the users spend more time on the new landing page than on the existing landing page?<br>\r\n",
    "&emsp; 2) Is the conversion rate (the proportion of users who visit the landing page and get converted) for the new page greater than the conversion rate for the old page?<br>\r\n",
    "&emsp; 3) Does the converted status depend on the preferred language?<br>\r\n",
    "&emsp; 4) Is the time spent on the new page the same for the different language users?<br>\r\n",
    "\r\n",
    "**Data Dictionary**<br>\r\n",
    "The data contains information regarding the interaction of users in both groups with the two versions of the landing page.<br>\r\n",
    "* user_id - Unique user ID of the person visiting the website\r\n",
    "* group - Whether the user belongs to the first group (control) or the second group (treatment)\r\n",
    "* landing_page - Whether the landing page is new or old\r\n",
    "* time_spent_on_the_page - Time (in minutes) spent by the user on the landing page\r\n",
    "* converted - Whether the user gets converted to a subscriber of the news portal or not\r\n",
    "* language_preferred - Language chosen by the user to view tng new subscribers.<br>\r\n"
   ]
  },
  {
   "cell_type": "markdown",
   "id": "de11cfb6-d1af-41fc-90e3-9ebcf5825ccc",
   "metadata": {},
   "source": [
    "### PROBLEM STATEMENT AND OBJECTIVES:\n",
    "E-news Express need to **test their new landing page effectiveness in terms of conversion rate**. For this it will be conducted an **A/B testing** to compare results on the control and treatement groups.<br>\n",
    "The Null Hypotesis (Ho) will be the new landing portal doesn't generates an improvement in gatering new subscribers, while the Alternative Hypotesis (Ha) is that the new landing portal in fact generates an improvement in gatering new subscribers.<br>"
   ]
  },
  {
   "cell_type": "markdown",
   "id": "a6a3d218",
   "metadata": {
    "id": "a6a3d218"
   },
   "source": [
    "## Import all the necessary libraries"
   ]
  },
  {
   "cell_type": "code",
   "execution_count": 53,
   "id": "r_5zUIePGS-1",
   "metadata": {
    "id": "r_5zUIePGS-1"
   },
   "outputs": [],
   "source": [
    "# Installing the libraries with the specified version.\n",
    "!pip install numpy==1.25.2 pandas==1.5.3 matplotlib==3.7.1 seaborn==0.13.1 scipy==1.11.4 -q --user"
   ]
  },
  {
   "cell_type": "markdown",
   "id": "DAaycw-QP-j9",
   "metadata": {
    "id": "DAaycw-QP-j9"
   },
   "source": [
    "**Note**: *After running the above cell, kindly restart the notebook kernel and run all cells sequentially from the start again.*"
   ]
  },
  {
   "cell_type": "code",
   "execution_count": 1,
   "id": "658c5dec",
   "metadata": {
    "id": "658c5dec"
   },
   "outputs": [],
   "source": [
    "# Common Libraries\n",
    "import numpy as np # linear algebra\n",
    "import pandas as pd # data manipulation and analysis\n",
    "import scipy.stats as stats # mathematical algorithms and convenience functions\n",
    "import statsmodels.stats.multicomp as stats_sm # statistical models, statistical tests, and statistical data exploration\n",
    "import statsmodels.stats.proportion as stats_sp # statistical models, statistical tests, and statistical data exploration\n",
    "import matplotlib.pyplot as plt # data visualization\n",
    "import seaborn as sns # data visualization\n",
    "\n",
    "# Command to tell Python to actually display the graphs\n",
    "%matplotlib inline \n",
    "sns.set_style('whitegrid') # set style for visualization\n",
    "import warnings # ignore warnings\n",
    "warnings.filterwarnings('ignore')\n",
    "pd.set_option('display.float_format', lambda x: '%.2f' % x) # To supress numerical display in scientific notations\n",
    "\n",
    "#create html version\n",
    "#!jupyter nbconvert --to html ENews_Express_Learner_Notebook_Full_Code.ipynb"
   ]
  },
  {
   "cell_type": "markdown",
   "id": "6970dd99",
   "metadata": {
    "id": "6970dd99"
   },
   "source": [
    "## Reading the Data into a DataFrame"
   ]
  },
  {
   "cell_type": "code",
   "execution_count": 2,
   "id": "d3b95640",
   "metadata": {
    "id": "d3b95640"
   },
   "outputs": [],
   "source": [
    "# dataset read\n",
    "df = pd.read_csv('abtest.csv')"
   ]
  },
  {
   "cell_type": "markdown",
   "id": "9d75cfa2",
   "metadata": {
    "id": "9d75cfa2"
   },
   "source": [
    "## Explore the dataset and extract insights using Exploratory Data Analysis"
   ]
  },
  {
   "cell_type": "markdown",
   "id": "27201534",
   "metadata": {
    "id": "27201534"
   },
   "source": [
    "- Data Overview\n",
    "  - Viewing the first and last few rows of the dataset\n",
    "  - Checking the shape of the dataset\n",
    "  - Getting the statistical summary for the variables\n",
    "- Check for missing values\n",
    "- Check for duplicates"
   ]
  },
  {
   "cell_type": "code",
   "execution_count": 3,
   "id": "e1ad11d4",
   "metadata": {
    "id": "e1ad11d4"
   },
   "outputs": [
    {
     "data": {
      "text/html": [
       "<div>\n",
       "<style scoped>\n",
       "    .dataframe tbody tr th:only-of-type {\n",
       "        vertical-align: middle;\n",
       "    }\n",
       "\n",
       "    .dataframe tbody tr th {\n",
       "        vertical-align: top;\n",
       "    }\n",
       "\n",
       "    .dataframe thead th {\n",
       "        text-align: right;\n",
       "    }\n",
       "</style>\n",
       "<table border=\"1\" class=\"dataframe\">\n",
       "  <thead>\n",
       "    <tr style=\"text-align: right;\">\n",
       "      <th></th>\n",
       "      <th>user_id</th>\n",
       "      <th>group</th>\n",
       "      <th>landing_page</th>\n",
       "      <th>time_spent_on_the_page</th>\n",
       "      <th>converted</th>\n",
       "      <th>language_preferred</th>\n",
       "    </tr>\n",
       "  </thead>\n",
       "  <tbody>\n",
       "    <tr>\n",
       "      <th>0</th>\n",
       "      <td>546592</td>\n",
       "      <td>control</td>\n",
       "      <td>old</td>\n",
       "      <td>3.48</td>\n",
       "      <td>no</td>\n",
       "      <td>Spanish</td>\n",
       "    </tr>\n",
       "    <tr>\n",
       "      <th>1</th>\n",
       "      <td>546468</td>\n",
       "      <td>treatment</td>\n",
       "      <td>new</td>\n",
       "      <td>7.13</td>\n",
       "      <td>yes</td>\n",
       "      <td>English</td>\n",
       "    </tr>\n",
       "    <tr>\n",
       "      <th>2</th>\n",
       "      <td>546462</td>\n",
       "      <td>treatment</td>\n",
       "      <td>new</td>\n",
       "      <td>4.40</td>\n",
       "      <td>no</td>\n",
       "      <td>Spanish</td>\n",
       "    </tr>\n",
       "    <tr>\n",
       "      <th>3</th>\n",
       "      <td>546567</td>\n",
       "      <td>control</td>\n",
       "      <td>old</td>\n",
       "      <td>3.02</td>\n",
       "      <td>no</td>\n",
       "      <td>French</td>\n",
       "    </tr>\n",
       "    <tr>\n",
       "      <th>4</th>\n",
       "      <td>546459</td>\n",
       "      <td>treatment</td>\n",
       "      <td>new</td>\n",
       "      <td>4.75</td>\n",
       "      <td>yes</td>\n",
       "      <td>Spanish</td>\n",
       "    </tr>\n",
       "  </tbody>\n",
       "</table>\n",
       "</div>"
      ],
      "text/plain": [
       "   user_id      group landing_page  time_spent_on_the_page converted  \\\n",
       "0   546592    control          old                    3.48        no   \n",
       "1   546468  treatment          new                    7.13       yes   \n",
       "2   546462  treatment          new                    4.40        no   \n",
       "3   546567    control          old                    3.02        no   \n",
       "4   546459  treatment          new                    4.75       yes   \n",
       "\n",
       "  language_preferred  \n",
       "0            Spanish  \n",
       "1            English  \n",
       "2            Spanish  \n",
       "3             French  \n",
       "4            Spanish  "
      ]
     },
     "execution_count": 3,
     "metadata": {},
     "output_type": "execute_result"
    }
   ],
   "source": [
    "df.head()"
   ]
  },
  {
   "cell_type": "code",
   "execution_count": 4,
   "id": "1e1d484a-7644-4273-914a-9c9561d3dd4a",
   "metadata": {},
   "outputs": [
    {
     "data": {
      "text/html": [
       "<div>\n",
       "<style scoped>\n",
       "    .dataframe tbody tr th:only-of-type {\n",
       "        vertical-align: middle;\n",
       "    }\n",
       "\n",
       "    .dataframe tbody tr th {\n",
       "        vertical-align: top;\n",
       "    }\n",
       "\n",
       "    .dataframe thead th {\n",
       "        text-align: right;\n",
       "    }\n",
       "</style>\n",
       "<table border=\"1\" class=\"dataframe\">\n",
       "  <thead>\n",
       "    <tr style=\"text-align: right;\">\n",
       "      <th></th>\n",
       "      <th>user_id</th>\n",
       "      <th>group</th>\n",
       "      <th>landing_page</th>\n",
       "      <th>time_spent_on_the_page</th>\n",
       "      <th>converted</th>\n",
       "      <th>language_preferred</th>\n",
       "    </tr>\n",
       "  </thead>\n",
       "  <tbody>\n",
       "    <tr>\n",
       "      <th>95</th>\n",
       "      <td>546446</td>\n",
       "      <td>treatment</td>\n",
       "      <td>new</td>\n",
       "      <td>5.15</td>\n",
       "      <td>no</td>\n",
       "      <td>Spanish</td>\n",
       "    </tr>\n",
       "    <tr>\n",
       "      <th>96</th>\n",
       "      <td>546544</td>\n",
       "      <td>control</td>\n",
       "      <td>old</td>\n",
       "      <td>6.52</td>\n",
       "      <td>yes</td>\n",
       "      <td>English</td>\n",
       "    </tr>\n",
       "    <tr>\n",
       "      <th>97</th>\n",
       "      <td>546472</td>\n",
       "      <td>treatment</td>\n",
       "      <td>new</td>\n",
       "      <td>7.07</td>\n",
       "      <td>yes</td>\n",
       "      <td>Spanish</td>\n",
       "    </tr>\n",
       "    <tr>\n",
       "      <th>98</th>\n",
       "      <td>546481</td>\n",
       "      <td>treatment</td>\n",
       "      <td>new</td>\n",
       "      <td>6.20</td>\n",
       "      <td>yes</td>\n",
       "      <td>Spanish</td>\n",
       "    </tr>\n",
       "    <tr>\n",
       "      <th>99</th>\n",
       "      <td>546483</td>\n",
       "      <td>treatment</td>\n",
       "      <td>new</td>\n",
       "      <td>5.86</td>\n",
       "      <td>yes</td>\n",
       "      <td>English</td>\n",
       "    </tr>\n",
       "  </tbody>\n",
       "</table>\n",
       "</div>"
      ],
      "text/plain": [
       "    user_id      group landing_page  time_spent_on_the_page converted  \\\n",
       "95   546446  treatment          new                    5.15        no   \n",
       "96   546544    control          old                    6.52       yes   \n",
       "97   546472  treatment          new                    7.07       yes   \n",
       "98   546481  treatment          new                    6.20       yes   \n",
       "99   546483  treatment          new                    5.86       yes   \n",
       "\n",
       "   language_preferred  \n",
       "95            Spanish  \n",
       "96            English  \n",
       "97            Spanish  \n",
       "98            Spanish  \n",
       "99            English  "
      ]
     },
     "execution_count": 4,
     "metadata": {},
     "output_type": "execute_result"
    }
   ],
   "source": [
    "df.tail()"
   ]
  },
  {
   "cell_type": "code",
   "execution_count": 5,
   "id": "33436135-b8c7-413b-912f-1cdc9558f7eb",
   "metadata": {},
   "outputs": [
    {
     "name": "stdout",
     "output_type": "stream",
     "text": [
      "There are 100 rows and 6 columns.\n"
     ]
    }
   ],
   "source": [
    "print(\"There are\", df.shape[0], 'rows and', df.shape[1], \"columns.\")"
   ]
  },
  {
   "cell_type": "code",
   "execution_count": 6,
   "id": "613c7a1a-e093-43ed-be18-bdb369b1896f",
   "metadata": {},
   "outputs": [
    {
     "name": "stdout",
     "output_type": "stream",
     "text": [
      "<class 'pandas.core.frame.DataFrame'>\n",
      "RangeIndex: 100 entries, 0 to 99\n",
      "Data columns (total 6 columns):\n",
      " #   Column                  Non-Null Count  Dtype  \n",
      "---  ------                  --------------  -----  \n",
      " 0   user_id                 100 non-null    int64  \n",
      " 1   group                   100 non-null    object \n",
      " 2   landing_page            100 non-null    object \n",
      " 3   time_spent_on_the_page  100 non-null    float64\n",
      " 4   converted               100 non-null    object \n",
      " 5   language_preferred      100 non-null    object \n",
      "dtypes: float64(1), int64(1), object(4)\n",
      "memory usage: 4.8+ KB\n"
     ]
    }
   ],
   "source": [
    "df.info()"
   ]
  },
  {
   "cell_type": "code",
   "execution_count": 7,
   "id": "227810b1-46d1-4d01-a400-169f9ee3caa2",
   "metadata": {},
   "outputs": [
    {
     "data": {
      "text/html": [
       "<div>\n",
       "<style scoped>\n",
       "    .dataframe tbody tr th:only-of-type {\n",
       "        vertical-align: middle;\n",
       "    }\n",
       "\n",
       "    .dataframe tbody tr th {\n",
       "        vertical-align: top;\n",
       "    }\n",
       "\n",
       "    .dataframe thead th {\n",
       "        text-align: right;\n",
       "    }\n",
       "</style>\n",
       "<table border=\"1\" class=\"dataframe\">\n",
       "  <thead>\n",
       "    <tr style=\"text-align: right;\">\n",
       "      <th></th>\n",
       "      <th>count</th>\n",
       "      <th>unique</th>\n",
       "      <th>top</th>\n",
       "      <th>freq</th>\n",
       "      <th>mean</th>\n",
       "      <th>std</th>\n",
       "      <th>min</th>\n",
       "      <th>25%</th>\n",
       "      <th>50%</th>\n",
       "      <th>75%</th>\n",
       "      <th>max</th>\n",
       "    </tr>\n",
       "  </thead>\n",
       "  <tbody>\n",
       "    <tr>\n",
       "      <th>user_id</th>\n",
       "      <td>100.00</td>\n",
       "      <td>NaN</td>\n",
       "      <td>NaN</td>\n",
       "      <td>NaN</td>\n",
       "      <td>546517.00</td>\n",
       "      <td>52.30</td>\n",
       "      <td>546443.00</td>\n",
       "      <td>546467.75</td>\n",
       "      <td>546492.50</td>\n",
       "      <td>546567.25</td>\n",
       "      <td>546592.00</td>\n",
       "    </tr>\n",
       "    <tr>\n",
       "      <th>group</th>\n",
       "      <td>100</td>\n",
       "      <td>2</td>\n",
       "      <td>control</td>\n",
       "      <td>50</td>\n",
       "      <td>NaN</td>\n",
       "      <td>NaN</td>\n",
       "      <td>NaN</td>\n",
       "      <td>NaN</td>\n",
       "      <td>NaN</td>\n",
       "      <td>NaN</td>\n",
       "      <td>NaN</td>\n",
       "    </tr>\n",
       "    <tr>\n",
       "      <th>landing_page</th>\n",
       "      <td>100</td>\n",
       "      <td>2</td>\n",
       "      <td>old</td>\n",
       "      <td>50</td>\n",
       "      <td>NaN</td>\n",
       "      <td>NaN</td>\n",
       "      <td>NaN</td>\n",
       "      <td>NaN</td>\n",
       "      <td>NaN</td>\n",
       "      <td>NaN</td>\n",
       "      <td>NaN</td>\n",
       "    </tr>\n",
       "    <tr>\n",
       "      <th>time_spent_on_the_page</th>\n",
       "      <td>100.00</td>\n",
       "      <td>NaN</td>\n",
       "      <td>NaN</td>\n",
       "      <td>NaN</td>\n",
       "      <td>5.38</td>\n",
       "      <td>2.38</td>\n",
       "      <td>0.19</td>\n",
       "      <td>3.88</td>\n",
       "      <td>5.42</td>\n",
       "      <td>7.02</td>\n",
       "      <td>10.71</td>\n",
       "    </tr>\n",
       "    <tr>\n",
       "      <th>converted</th>\n",
       "      <td>100</td>\n",
       "      <td>2</td>\n",
       "      <td>yes</td>\n",
       "      <td>54</td>\n",
       "      <td>NaN</td>\n",
       "      <td>NaN</td>\n",
       "      <td>NaN</td>\n",
       "      <td>NaN</td>\n",
       "      <td>NaN</td>\n",
       "      <td>NaN</td>\n",
       "      <td>NaN</td>\n",
       "    </tr>\n",
       "    <tr>\n",
       "      <th>language_preferred</th>\n",
       "      <td>100</td>\n",
       "      <td>3</td>\n",
       "      <td>Spanish</td>\n",
       "      <td>34</td>\n",
       "      <td>NaN</td>\n",
       "      <td>NaN</td>\n",
       "      <td>NaN</td>\n",
       "      <td>NaN</td>\n",
       "      <td>NaN</td>\n",
       "      <td>NaN</td>\n",
       "      <td>NaN</td>\n",
       "    </tr>\n",
       "  </tbody>\n",
       "</table>\n",
       "</div>"
      ],
      "text/plain": [
       "                        count unique      top freq      mean   std       min  \\\n",
       "user_id                100.00    NaN      NaN  NaN 546517.00 52.30 546443.00   \n",
       "group                     100      2  control   50       NaN   NaN       NaN   \n",
       "landing_page              100      2      old   50       NaN   NaN       NaN   \n",
       "time_spent_on_the_page 100.00    NaN      NaN  NaN      5.38  2.38      0.19   \n",
       "converted                 100      2      yes   54       NaN   NaN       NaN   \n",
       "language_preferred        100      3  Spanish   34       NaN   NaN       NaN   \n",
       "\n",
       "                             25%       50%       75%       max  \n",
       "user_id                546467.75 546492.50 546567.25 546592.00  \n",
       "group                        NaN       NaN       NaN       NaN  \n",
       "landing_page                 NaN       NaN       NaN       NaN  \n",
       "time_spent_on_the_page      3.88      5.42      7.02     10.71  \n",
       "converted                    NaN       NaN       NaN       NaN  \n",
       "language_preferred           NaN       NaN       NaN       NaN  "
      ]
     },
     "execution_count": 7,
     "metadata": {},
     "output_type": "execute_result"
    }
   ],
   "source": [
    "df.describe(include='all').T"
   ]
  },
  {
   "cell_type": "code",
   "execution_count": 8,
   "id": "c085e291-0e8b-414e-b546-529c7f3ba0c2",
   "metadata": {},
   "outputs": [
    {
     "data": {
      "text/plain": [
       "user_id                   0\n",
       "group                     0\n",
       "landing_page              0\n",
       "time_spent_on_the_page    0\n",
       "converted                 0\n",
       "language_preferred        0\n",
       "dtype: int64"
      ]
     },
     "execution_count": 8,
     "metadata": {},
     "output_type": "execute_result"
    }
   ],
   "source": [
    "df.isnull().sum()"
   ]
  },
  {
   "cell_type": "code",
   "execution_count": 9,
   "id": "25e1f6c4-c0b9-456c-b102-974af1a00607",
   "metadata": {},
   "outputs": [
    {
     "data": {
      "text/plain": [
       "user_id                   100\n",
       "group                       2\n",
       "landing_page                2\n",
       "time_spent_on_the_page     94\n",
       "converted                   2\n",
       "language_preferred          3\n",
       "dtype: int64"
      ]
     },
     "execution_count": 9,
     "metadata": {},
     "output_type": "execute_result"
    }
   ],
   "source": [
    "df.nunique()"
   ]
  },
  {
   "cell_type": "code",
   "execution_count": 10,
   "id": "f54d9b4a-edf5-4014-b875-de09df0e416b",
   "metadata": {},
   "outputs": [
    {
     "data": {
      "text/html": [
       "<div>\n",
       "<style scoped>\n",
       "    .dataframe tbody tr th:only-of-type {\n",
       "        vertical-align: middle;\n",
       "    }\n",
       "\n",
       "    .dataframe tbody tr th {\n",
       "        vertical-align: top;\n",
       "    }\n",
       "\n",
       "    .dataframe thead th {\n",
       "        text-align: right;\n",
       "    }\n",
       "</style>\n",
       "<table border=\"1\" class=\"dataframe\">\n",
       "  <thead>\n",
       "    <tr style=\"text-align: right;\">\n",
       "      <th></th>\n",
       "      <th>group</th>\n",
       "      <th>landing_page</th>\n",
       "      <th>converted</th>\n",
       "      <th>language_preferred</th>\n",
       "    </tr>\n",
       "  </thead>\n",
       "  <tbody>\n",
       "    <tr>\n",
       "      <th>0</th>\n",
       "      <td>control</td>\n",
       "      <td>old</td>\n",
       "      <td>no</td>\n",
       "      <td>Spanish</td>\n",
       "    </tr>\n",
       "    <tr>\n",
       "      <th>1</th>\n",
       "      <td>treatment</td>\n",
       "      <td>new</td>\n",
       "      <td>yes</td>\n",
       "      <td>English</td>\n",
       "    </tr>\n",
       "    <tr>\n",
       "      <th>2</th>\n",
       "      <td>treatment</td>\n",
       "      <td>new</td>\n",
       "      <td>no</td>\n",
       "      <td>Spanish</td>\n",
       "    </tr>\n",
       "    <tr>\n",
       "      <th>3</th>\n",
       "      <td>control</td>\n",
       "      <td>old</td>\n",
       "      <td>no</td>\n",
       "      <td>French</td>\n",
       "    </tr>\n",
       "    <tr>\n",
       "      <th>4</th>\n",
       "      <td>treatment</td>\n",
       "      <td>new</td>\n",
       "      <td>yes</td>\n",
       "      <td>Spanish</td>\n",
       "    </tr>\n",
       "  </tbody>\n",
       "</table>\n",
       "</div>"
      ],
      "text/plain": [
       "       group landing_page converted language_preferred\n",
       "0    control          old        no            Spanish\n",
       "1  treatment          new       yes            English\n",
       "2  treatment          new        no            Spanish\n",
       "3    control          old        no             French\n",
       "4  treatment          new       yes            Spanish"
      ]
     },
     "execution_count": 10,
     "metadata": {},
     "output_type": "execute_result"
    }
   ],
   "source": [
    "#data with categorical variables only\n",
    "df_cat=df.drop(['user_id','time_spent_on_the_page'],axis='columns')\n",
    "df_cat.head()"
   ]
  },
  {
   "cell_type": "code",
   "execution_count": 11,
   "id": "de55890d-3f91-4a74-9c6f-ae9a8125a81b",
   "metadata": {},
   "outputs": [
    {
     "name": "stdout",
     "output_type": "stream",
     "text": [
      "group :  ['control' 'treatment']\n",
      "landing_page :  ['old' 'new']\n",
      "converted :  ['no' 'yes']\n",
      "language_preferred :  ['Spanish' 'English' 'French']\n"
     ]
    }
   ],
   "source": [
    "# Checking if all levels of the categories are appropriately defined\n",
    "for i in df_cat.columns:\n",
    "    print (i,\": \",df_cat[i].unique())"
   ]
  },
  {
   "cell_type": "code",
   "execution_count": 12,
   "id": "f329fe6d-3a15-4338-803d-e9b26c212341",
   "metadata": {},
   "outputs": [
    {
     "data": {
      "text/plain": [
       "old    50\n",
       "new    50\n",
       "Name: landing_page, dtype: int64"
      ]
     },
     "execution_count": 12,
     "metadata": {},
     "output_type": "execute_result"
    }
   ],
   "source": [
    "# Checking problem statement \"selecting 100 users and dividing them equally into two groups\"\n",
    "df_cat['landing_page'].value_counts()"
   ]
  },
  {
   "cell_type": "markdown",
   "id": "af8e5c1d-9eaa-4667-ac49-21ff1848ef39",
   "metadata": {},
   "source": [
    "#### EXPLORATORY DATA ANALYSIS RESULTS:\r\n",
    "From the data overview is concluded:\r\n",
    "* The data file was properly loaded and contains data expected (random selection of 100 users, divided equally into two groups)\r\n",
    "* There are 100 rows and 6 columns.\r\n",
    "* Rows corresponds to users, having 100 users and a unique id per user, so each row represents a single and unique user.\r\n",
    "* Columns correspond to dictionary, having in total 6 coumns, 4 of those categorical ('group', 'landing_page', 'converted', 'language_preferred'), and 2 of those numerical ('user_id', 'time_spent_on_the_page').\r\n",
    "* There are no null values in the data.\r\n",
    "* The categorical variables has no errors like repetition or case missmatch:\r\n",
    "  * group :  ['control' 'treatment']\r\n",
    "  * landing_page :  ['old' 'new']\r\n",
    "  * converted :  ['no' 'yes']\r\n",
    "  * language_preferred :  ['Spanish' 'English' 'French']\r\n",
    "* The 100 users are effectively divided into two equal groups:\r\n",
    "  * old    50\r\n",
    "  * new    50\r\n"
   ]
  },
  {
   "cell_type": "markdown",
   "id": "68f3b2c9",
   "metadata": {
    "id": "68f3b2c9"
   },
   "source": [
    "### Univariate Analysis"
   ]
  },
  {
   "cell_type": "code",
   "execution_count": 15,
   "id": "0cccbe8d-fa69-4801-bc0b-320afb1f39c1",
   "metadata": {},
   "outputs": [],
   "source": [
    "#f, axs = plt.subplots(2, 2, figsize=(8, 5))"
   ]
  },
  {
   "cell_type": "code",
   "execution_count": 14,
   "id": "ce57e2c5-0040-45bc-8da1-c8bc3d8b8630",
   "metadata": {},
   "outputs": [
    {
     "data": {
      "image/png": "[encoded data removed]",
      "text/plain": [
       "<Figure size 800x500 with 4 Axes>"
      ]
     },
     "metadata": {},
     "output_type": "display_data"
    }
   ],
   "source": [
    "f, axs = plt.subplots(2, 2, figsize=(8, 5))\n",
    "sns.countplot(data=df_cat, x=df_cat.columns[0], ax=axs[0,0])\n",
    "sns.countplot(data=df_cat, x=df_cat.columns[1], ax=axs[0,1])\n",
    "sns.countplot(data=df_cat, x=df_cat.columns[2], ax=axs[1,0])\n",
    "sns.countplot(data=df_cat, x=df_cat.columns[3], ax=axs[1,1])\n",
    "f.tight_layout()"
   ]
  },
  {
   "cell_type": "code",
   "execution_count": null,
   "id": "56444588-c06a-4155-ab10-4d15b3139af2",
   "metadata": {},
   "outputs": [],
   "source": [
    "f, axs = plt.subplots(1, 2, figsize=(15, 5),gridspec_kw=dict(width_ratios=[1,1.5]))\n",
    "sns.histplot(data=df, x=\"time_spent_on_the_page\",ax=axs[0],kde=True)\n",
    "sns.boxplot(data=df, x=\"time_spent_on_the_page\", ax=axs[1])\n",
    "f.tight_layout()"
   ]
  },
  {
   "cell_type": "markdown",
   "id": "89bfca18-154f-45a7-9baa-285786acf368",
   "metadata": {},
   "source": [
    "### UNIVARIATE ANALYSIS RESULTS:\r\n",
    "\r\n",
    "From the univariate analysis is concluded:\r\n",
    "* As the number of rows is 100 the \"count\" plots also could be read as \"percentage\"\r\n",
    "* Very even distribution of the sample on the four categorical variables\r\n",
    "* The variable time_spend_on_the_page has a normal distribution with no outliers and a mean of 5.38hrs aligned with media of 5.42hrs\r\n"
   ]
  },
  {
   "cell_type": "markdown",
   "id": "fad2de2f",
   "metadata": {
    "id": "fad2de2f"
   },
   "source": [
    "### Bivariate Analysis"
   ]
  },
  {
   "cell_type": "markdown",
   "id": "11636597-0815-4ff9-8fbb-0cccde24dc56",
   "metadata": {},
   "source": [
    "Bivariate analysis performed initially considering the variable of interest 'converted' to check how the conversion rate might be related with other variables"
   ]
  },
  {
   "cell_type": "code",
   "execution_count": 16,
   "id": "0a1a8a8d-4615-456d-bc9c-3494aa66a2b8",
   "metadata": {},
   "outputs": [
    {
     "data": {
      "text/html": [
       "<div>\n",
       "<style scoped>\n",
       "    .dataframe tbody tr th:only-of-type {\n",
       "        vertical-align: middle;\n",
       "    }\n",
       "\n",
       "    .dataframe tbody tr th {\n",
       "        vertical-align: top;\n",
       "    }\n",
       "\n",
       "    .dataframe thead th {\n",
       "        text-align: right;\n",
       "    }\n",
       "</style>\n",
       "<table border=\"1\" class=\"dataframe\">\n",
       "  <thead>\n",
       "    <tr style=\"text-align: right;\">\n",
       "      <th>converted</th>\n",
       "      <th>no</th>\n",
       "      <th>yes</th>\n",
       "    </tr>\n",
       "    <tr>\n",
       "      <th>group</th>\n",
       "      <th></th>\n",
       "      <th></th>\n",
       "    </tr>\n",
       "  </thead>\n",
       "  <tbody>\n",
       "    <tr>\n",
       "      <th>control</th>\n",
       "      <td>0.58</td>\n",
       "      <td>0.42</td>\n",
       "    </tr>\n",
       "    <tr>\n",
       "      <th>treatment</th>\n",
       "      <td>0.34</td>\n",
       "      <td>0.66</td>\n",
       "    </tr>\n",
       "  </tbody>\n",
       "</table>\n",
       "</div>"
      ],
      "text/plain": [
       "converted   no  yes\n",
       "group              \n",
       "control   0.58 0.42\n",
       "treatment 0.34 0.66"
      ]
     },
     "execution_count": 16,
     "metadata": {},
     "output_type": "execute_result"
    }
   ],
   "source": [
    "# Check relation of convertion rate with group type\n",
    "conv_group=pd.crosstab(df['group'],df['converted'],normalize='index')\n",
    "#conv_group.plot.bar(stacked=True);\n",
    "conv_group"
   ]
  },
  {
   "cell_type": "code",
   "execution_count": 17,
   "id": "d919e31a-334e-4568-b9ac-a99eb50b27d5",
   "metadata": {},
   "outputs": [
    {
     "data": {
      "text/html": [
       "<div>\n",
       "<style scoped>\n",
       "    .dataframe tbody tr th:only-of-type {\n",
       "        vertical-align: middle;\n",
       "    }\n",
       "\n",
       "    .dataframe tbody tr th {\n",
       "        vertical-align: top;\n",
       "    }\n",
       "\n",
       "    .dataframe thead th {\n",
       "        text-align: right;\n",
       "    }\n",
       "</style>\n",
       "<table border=\"1\" class=\"dataframe\">\n",
       "  <thead>\n",
       "    <tr style=\"text-align: right;\">\n",
       "      <th>converted</th>\n",
       "      <th>no</th>\n",
       "      <th>yes</th>\n",
       "    </tr>\n",
       "    <tr>\n",
       "      <th>landing_page</th>\n",
       "      <th></th>\n",
       "      <th></th>\n",
       "    </tr>\n",
       "  </thead>\n",
       "  <tbody>\n",
       "    <tr>\n",
       "      <th>new</th>\n",
       "      <td>0.34</td>\n",
       "      <td>0.66</td>\n",
       "    </tr>\n",
       "    <tr>\n",
       "      <th>old</th>\n",
       "      <td>0.58</td>\n",
       "      <td>0.42</td>\n",
       "    </tr>\n",
       "  </tbody>\n",
       "</table>\n",
       "</div>"
      ],
      "text/plain": [
       "converted      no  yes\n",
       "landing_page          \n",
       "new          0.34 0.66\n",
       "old          0.58 0.42"
      ]
     },
     "execution_count": 17,
     "metadata": {},
     "output_type": "execute_result"
    }
   ],
   "source": [
    "# Check relation of convertion rate with landing_page type\n",
    "conv_page=pd.crosstab(df['landing_page'],df['converted'],normalize='index')\n",
    "#conv_page.plot.bar(stacked=True);\n",
    "conv_page"
   ]
  },
  {
   "cell_type": "code",
   "execution_count": 18,
   "id": "f55e38fb-8a49-4353-9f82-98a7072adc9b",
   "metadata": {},
   "outputs": [
    {
     "data": {
      "text/html": [
       "<div>\n",
       "<style scoped>\n",
       "    .dataframe tbody tr th:only-of-type {\n",
       "        vertical-align: middle;\n",
       "    }\n",
       "\n",
       "    .dataframe tbody tr th {\n",
       "        vertical-align: top;\n",
       "    }\n",
       "\n",
       "    .dataframe thead th {\n",
       "        text-align: right;\n",
       "    }\n",
       "</style>\n",
       "<table border=\"1\" class=\"dataframe\">\n",
       "  <thead>\n",
       "    <tr style=\"text-align: right;\">\n",
       "      <th>converted</th>\n",
       "      <th>no</th>\n",
       "      <th>yes</th>\n",
       "    </tr>\n",
       "    <tr>\n",
       "      <th>language_preferred</th>\n",
       "      <th></th>\n",
       "      <th></th>\n",
       "    </tr>\n",
       "  </thead>\n",
       "  <tbody>\n",
       "    <tr>\n",
       "      <th>English</th>\n",
       "      <td>0.34</td>\n",
       "      <td>0.66</td>\n",
       "    </tr>\n",
       "    <tr>\n",
       "      <th>Spanish</th>\n",
       "      <td>0.47</td>\n",
       "      <td>0.53</td>\n",
       "    </tr>\n",
       "    <tr>\n",
       "      <th>French</th>\n",
       "      <td>0.56</td>\n",
       "      <td>0.44</td>\n",
       "    </tr>\n",
       "  </tbody>\n",
       "</table>\n",
       "</div>"
      ],
      "text/plain": [
       "converted            no  yes\n",
       "language_preferred          \n",
       "English            0.34 0.66\n",
       "Spanish            0.47 0.53\n",
       "French             0.56 0.44"
      ]
     },
     "execution_count": 18,
     "metadata": {},
     "output_type": "execute_result"
    }
   ],
   "source": [
    "# Check relation of convertion rate with language_preferred type\n",
    "conv_lang=pd.crosstab(df['language_preferred'],df['converted'],normalize='index')\n",
    "#conv_lang.plot.bar(stacked=True);\n",
    "conv_lang.sort_values(by='yes', ascending=False)"
   ]
  },
  {
   "cell_type": "code",
   "execution_count": 19,
   "id": "4fea0f8b-9133-4f1e-95c5-476ade86c00f",
   "metadata": {},
   "outputs": [
    {
     "data": {
      "image/png": "[encoded data removed]",
      "text/plain": [
       "<Figure size 1500x500 with 3 Axes>"
      ]
     },
     "metadata": {},
     "output_type": "display_data"
    }
   ],
   "source": [
    "# Check relation of convertion rate with categorical variables\n",
    "f, axs = plt.subplots(1, 3, figsize=(15, 5),gridspec_kw=dict(width_ratios=[1,1,1]))\n",
    "conv_group.plot.bar(stacked=True,ax=axs[0]);\n",
    "conv_page.plot.bar(stacked=True,ax=axs[1]);\n",
    "conv_lang.plot.bar(stacked=True,ax=axs[2]);\n",
    "f.tight_layout()"
   ]
  },
  {
   "cell_type": "markdown",
   "id": "6a87fe4c-ef0b-4644-897d-b90d07b69d11",
   "metadata": {},
   "source": [
    "The numerical variable 'time_spent_on_the_page' is also considered on bivariate analysis to check how the time spend on the landing page could have a correlation with other variables"
   ]
  },
  {
   "cell_type": "code",
   "execution_count": 20,
   "id": "705f76af-6f74-4192-ad5c-01c1ad53af72",
   "metadata": {},
   "outputs": [
    {
     "data": {
      "image/png": "[encoded data removed]",
      "text/plain": [
       "<Figure size 1000x1000 with 4 Axes>"
      ]
     },
     "metadata": {},
     "output_type": "display_data"
    }
   ],
   "source": [
    "# Check relation of time_spent_on_the_page by category\n",
    "f, axs = plt.subplots(2, 2, figsize=(10, 10),gridspec_kw=dict(width_ratios=[1,1]))\n",
    "sns.boxplot(data=df, x='converted',y='time_spent_on_the_page',ax=axs[0,0]);\n",
    "sns.boxplot(data=df, x='language_preferred',y='time_spent_on_the_page',ax=axs[0,1]);\n",
    "sns.boxplot(data=df, x='landing_page',y='time_spent_on_the_page',ax=axs[1,0]);\n",
    "sns.boxplot(data=df, x='group',y='time_spent_on_the_page',ax=axs[1,1]);\n",
    "f.tight_layout()"
   ]
  },
  {
   "cell_type": "code",
   "execution_count": 21,
   "id": "2288c8c9-6f80-4665-8285-efd054283f0b",
   "metadata": {},
   "outputs": [
    {
     "data": {
      "image/png": "[encoded data removed]",
      "text/plain": [
       "<Figure size 1500x500 with 3 Axes>"
      ]
     },
     "metadata": {},
     "output_type": "display_data"
    }
   ],
   "source": [
    "# Check relation of convertion rate with time_spent_on_the_page by category\n",
    "f, axs = plt.subplots(1, 3, figsize=(15, 5),gridspec_kw=dict(width_ratios=[1,1,1]))\n",
    "sns.boxplot(data=df, x='converted',y='time_spent_on_the_page', hue='language_preferred',ax=axs[0]);\n",
    "sns.boxplot(data=df, x='converted',y='time_spent_on_the_page', hue='landing_page',ax=axs[1]);\n",
    "sns.boxplot(data=df, x='converted',y='time_spent_on_the_page', hue='group',ax=axs[2]);\n",
    "f.tight_layout()"
   ]
  },
  {
   "cell_type": "code",
   "execution_count": 22,
   "id": "b3523e10-6485-4b81-8a3d-15d3d991e92b",
   "metadata": {},
   "outputs": [
    {
     "data": {
      "image/png": "[encoded data removed]",
      "text/plain": [
       "<Figure size 1500x500 with 3 Axes>"
      ]
     },
     "metadata": {},
     "output_type": "display_data"
    }
   ],
   "source": [
    "# Check relation of landing page with time_spent_on_the_page by category\n",
    "f, axs = plt.subplots(1, 3, figsize=(15, 5),gridspec_kw=dict(width_ratios=[1,1,1]))\n",
    "sns.boxplot(data=df, x='landing_page',y='time_spent_on_the_page', hue='language_preferred',ax=axs[0]);\n",
    "sns.boxplot(data=df, x='landing_page',y='time_spent_on_the_page', hue='converted',ax=axs[1]);\n",
    "sns.boxplot(data=df, x='landing_page',y='time_spent_on_the_page', hue='group',ax=axs[2]);\n",
    "f.tight_layout()"
   ]
  },
  {
   "cell_type": "code",
   "execution_count": 23,
   "id": "9eccebf1-214c-4f6e-9554-1c5d3210fce5",
   "metadata": {},
   "outputs": [
    {
     "data": {
      "image/png": "[encoded data removed]",
      "text/plain": [
       "<Figure size 1500x500 with 3 Axes>"
      ]
     },
     "metadata": {},
     "output_type": "display_data"
    }
   ],
   "source": [
    "# the relation of group should with other variables should look similar to the relation of landing page\n",
    "f, axs = plt.subplots(1, 3, figsize=(15, 5),gridspec_kw=dict(width_ratios=[1,1,1]))\n",
    "sns.boxplot(data=df, x='group',y='time_spent_on_the_page', hue='language_preferred',ax=axs[0]);\n",
    "sns.boxplot(data=df, x='group',y='time_spent_on_the_page', hue='converted',ax=axs[1]);\n",
    "sns.boxplot(data=df, x='group',y='time_spent_on_the_page', hue='landing_page',ax=axs[2]);\n",
    "f.tight_layout()"
   ]
  },
  {
   "cell_type": "markdown",
   "id": "9654d700-7ccb-4224-8db6-8aac36aeb3b9",
   "metadata": {},
   "source": [
    "### BIVARIATE ANALYSIS RESULTS:\r\n",
    "\r\n",
    "* Bivariate analysis performed considering the relation of variables with the variable of interest: \"converted\".\r\n",
    "* The treatment group have a higher conversion rate (66%) than the control group (42%)\r\n",
    "* The new landing page have a higher conversion rate (66%) than the old landing page (42%)\r\n",
    "* The language with better conversion rate is English (66%), followed by Spanish (53%) and French (44%).\r\n",
    "* For those converted, the media time spend on the page is over 6hrs, while when no converted the media time spend on the page is 4hrs. \r\n",
    "\r\n",
    "From the Bivariate analysis is concluded:<br>\r\n",
    "* Regardless the language, page or group, those users who spend more than 6 hrs tend to become subscribers.\r\n",
    "* The new page seems to be better than the old page to keep customers engaged long enough to subscribe.\r\n"
   ]
  },
  {
   "cell_type": "markdown",
   "id": "27906576",
   "metadata": {
    "id": "27906576"
   },
   "source": [
    "## 1. Do the users spend more time on the new landing page than the existing landing page?"
   ]
  },
  {
   "cell_type": "markdown",
   "id": "e5fdf0c8",
   "metadata": {
    "id": "e5fdf0c8"
   },
   "source": [
    "### Perform Visual Analysis"
   ]
  },
  {
   "cell_type": "code",
   "execution_count": null,
   "id": "6eZJa41eg21n",
   "metadata": {
    "id": "6eZJa41eg21n"
   },
   "outputs": [],
   "source": [
    "# Check relation time_spent_on_the_page by category\n",
    "f, axs = plt.subplots(2, 2, figsize=(10, 10),gridspec_kw=dict(width_ratios=[1,1]))\n",
    "sns.boxplot(data=df, x='landing_page',y='time_spent_on_the_page',ax=axs[0,0]);\n",
    "sns.boxplot(data=df, x='landing_page',y='time_spent_on_the_page', hue='language_preferred',ax=axs[0,1]);\n",
    "sns.boxplot(data=df, x='landing_page',y='time_spent_on_the_page', hue='converted',ax=axs[1,0]);\n",
    "sns.boxplot(data=df, x='landing_page',y='time_spent_on_the_page', hue='group',ax=axs[1,1]);\n",
    "f.tight_layout()"
   ]
  },
  {
   "cell_type": "markdown",
   "id": "56b3dafd",
   "metadata": {
    "id": "56b3dafd"
   },
   "source": [
    "### Step 1: Define the null and alternate hypotheses"
   ]
  },
  {
   "cell_type": "markdown",
   "id": "d2ac77ef",
   "metadata": {
    "id": "d2ac77ef"
   },
   "source": [
    "**The null and alternative hypothesis**<br>\n",
    "Let $\\mu_1$ be the mean time spend on the old landing page.<br>\n",
    "Let $\\mu_2$ be the mean time spend on the new landing page.<br>\n",
    "\n",
    "We will test the null hypothesis\n",
    "\n",
    ">$H_0:\\mu_1 >= \\mu_2$\n",
    "\n",
    "against the alternate hypothesis\n",
    "\n",
    ">$H_a:\\mu_1 < \\mu_2$"
   ]
  },
  {
   "cell_type": "markdown",
   "id": "c7ee4907",
   "metadata": {
    "id": "c7ee4907"
   },
   "source": [
    "### Step 2: Select Appropriate test"
   ]
  },
  {
   "cell_type": "code",
   "execution_count": null,
   "id": "4351ef68-7ecb-4e60-b6d7-b65b563a1945",
   "metadata": {},
   "outputs": [],
   "source": [
    "#calculate mean of time_spent_on_NEW_page\n",
    "df['time_spent_on_the_page'][df['landing_page']=='new'].mean()"
   ]
  },
  {
   "cell_type": "code",
   "execution_count": null,
   "id": "d5b1cfc9-4efd-476b-ae6c-42aa047b65ed",
   "metadata": {},
   "outputs": [],
   "source": [
    "#calculate mean of time_spent_on_OLD_page\n",
    "df['time_spent_on_the_page'][df['landing_page']=='old'].mean()"
   ]
  },
  {
   "cell_type": "code",
   "execution_count": null,
   "id": "0dcc275f-0ba6-4c01-b997-17bd43dc938a",
   "metadata": {},
   "outputs": [],
   "source": [
    "#checking normality\n",
    "w,pv_time_new=stats.shapiro(df['time_spent_on_the_page'][df['landing_page']=='new'])\n",
    "w,pv_time_old=stats.shapiro(df['time_spent_on_the_page'][df['landing_page']=='old'])\n",
    "\n",
    "#Getting p_value\n",
    "print('The p-value for time_new is', round(pv_time_new,4))\n",
    "print('The p-value for time_old is', round(pv_time_old,4))\n",
    "\n",
    "print('\\n')\n",
    "\n",
    "#comparing p_value with alpha\n",
    "if pv_time_new>alpha:\n",
    "    print ('''Since p-value of the time_new test is larger than significance level, we FAIL TO REJECT\n",
    "the null hypothesis that the response follows the normal distribution.''',end='\\n\\n')\n",
    "else:\n",
    "    print ('''Since p-value of the time_new test is smaller than significance level, we REJECT \n",
    "the null hypothesis that the response follows the normal distribution.''',end='\\n\\n')\n",
    "\n",
    "if pv_time_old>alpha:\n",
    "    print ('''Since p-value of the time_old test is larger than significance level, we FAIL TO REJECT \n",
    "the null hypothesis that the response follows the normal distribution.''',end='\\n\\n')\n",
    "else:\n",
    "    print ('''Since p-value of the time_old test is smaller than significance level, we REJECT \n",
    "the null hypothesis that the response follows the normal distribution.''',end='\\n\\n')\n",
    "\n"
   ]
  },
  {
   "cell_type": "markdown",
   "id": "2c183cd7",
   "metadata": {
    "id": "2c183cd7"
   },
   "source": [
    "Being the time spend on the new landing page, and the time spend on the old landing page, both continuous, normal (verified with shapiro test), independant, with unequal means (calculated), the rigth test is the **T-TEST for equality of means**"
   ]
  },
  {
   "cell_type": "markdown",
   "id": "3f58c9a7",
   "metadata": {
    "id": "3f58c9a7"
   },
   "source": [
    "### Step 3: Decide the significance level"
   ]
  },
  {
   "cell_type": "markdown",
   "id": "92d7d7ee",
   "metadata": {
    "id": "92d7d7ee"
   },
   "source": [
    "The significance level for the study $\\alpha = 0.05$ as defined by E-News Express: \"explore the data and perform a statistical analysis (at a significance level of 5%)\""
   ]
  },
  {
   "cell_type": "code",
   "execution_count": null,
   "id": "86c20477-7600-4978-b38d-36a7dc89d23d",
   "metadata": {},
   "outputs": [],
   "source": [
    "alpha=0.05"
   ]
  },
  {
   "cell_type": "markdown",
   "id": "5fed2eac",
   "metadata": {
    "id": "5fed2eac"
   },
   "source": [
    "### Step 4: Collect and prepare data"
   ]
  },
  {
   "cell_type": "code",
   "execution_count": null,
   "id": "f5a59495",
   "metadata": {
    "id": "f5a59495"
   },
   "outputs": [],
   "source": [
    "#time variable split to be compared among test gropus\n",
    "time_new=df['time_spent_on_the_page'][df['landing_page']=='new']\n",
    "time_old=df['time_spent_on_the_page'][df['landing_page']=='old']"
   ]
  },
  {
   "cell_type": "markdown",
   "id": "f5c5258d",
   "metadata": {
    "id": "f5c5258d"
   },
   "source": [
    "### Step 5: Calculate the p-value"
   ]
  },
  {
   "cell_type": "code",
   "execution_count": null,
   "id": "fac8594a",
   "metadata": {
    "id": "fac8594a"
   },
   "outputs": [],
   "source": [
    "test_stat,p_value=stats.ttest_ind(time_new,time_old,equal_var=False, alternative='greater')\n",
    "print('The T_Test statistic is ', test_stat)\n",
    "print('The p-value is ', p_value)"
   ]
  },
  {
   "cell_type": "markdown",
   "id": "359b12f8",
   "metadata": {
    "id": "359b12f8"
   },
   "source": [
    "### Step 6: Compare the p-value with $\\alpha$"
   ]
  },
  {
   "cell_type": "code",
   "execution_count": null,
   "id": "7be47289",
   "metadata": {
    "id": "7be47289"
   },
   "outputs": [],
   "source": [
    "if p_value>alpha:\n",
    "    print ('''Since p-value of the time_new test is larger than significance level, we FAIL TO REJECT \n",
    "the null hypothesis that the mean time spend on the old landing page is greater than the mean time spend on the new landing page.''',end='\\n\\n')\n",
    "else:\n",
    "    print ('''Since p-value of the time_new test is smaller than significance level, we REJECT\n",
    "the null hypothesis that the mean time spend on the old landing page is greater than the mean time spend on the new landing page.''',end='\\n\\n')\n"
   ]
  },
  {
   "cell_type": "markdown",
   "id": "d9affc84",
   "metadata": {
    "id": "d9affc84"
   },
   "source": [
    "### Step 7:  Draw inference"
   ]
  },
  {
   "cell_type": "markdown",
   "id": "0fe706da-14d7-4343-84bc-b33721b5cc4d",
   "metadata": {},
   "source": [
    "### ANSWER 1\r\n",
    "Do the users spend more time on the new landing page than on the existing landing page?<br>\r\n",
    "\r\n",
    "* For the visualization, the media of time spend is bigger in the new landing page than in the old one. This has to be verified statistically.\r\n",
    "* Being the variables of time spend on the new landing page, and the time spend on the old landing page, both continuous, normal (verified with shapiro test), independant, with unequal means (calculated), the rigth test is the **T-TEST for equality of means**.\r\n",
    "* Since p-value of the time_new test is smaller than significance level, we **REJECT the null hypothesis** that the mean time spend on the old landing page is greater than the mean time spend on the new landing page.<br>\r\n",
    "\r\n",
    "**Then, the evidence in the sample is strong enough to conclude that the users efectively spend more time on the new landing page than the existing landing page**\r\n"
   ]
  },
  {
   "cell_type": "markdown",
   "id": "353e9d24",
   "metadata": {
    "id": "353e9d24"
   },
   "source": [
    "## 2. Is the conversion rate (the proportion of users who visit the landing page and get converted) for the new page greater than the conversion rate for the old page?"
   ]
  },
  {
   "cell_type": "markdown",
   "id": "480be242-adc8-4a27-b16d-7a0cf44bbf5e",
   "metadata": {},
   "source": [
    "**2.1 Visualization**"
   ]
  },
  {
   "cell_type": "code",
   "execution_count": null,
   "id": "b7f52898",
   "metadata": {
    "id": "b7f52898"
   },
   "outputs": [],
   "source": [
    "# visual analysis\n",
    "# Check relation of convertion rate with landing_page type\n",
    "conv_page=pd.crosstab(df['landing_page'],df['converted'],normalize='index')\n",
    "conv_page.plot.bar(stacked=True);\n",
    "conv_page"
   ]
  },
  {
   "cell_type": "code",
   "execution_count": null,
   "id": "e78d6f82-1e37-46a6-82f6-ca23c30357bc",
   "metadata": {},
   "outputs": [],
   "source": [
    "pd.crosstab(df['landing_page'],df['converted'],margins='all')"
   ]
  },
  {
   "cell_type": "markdown",
   "id": "f9739a13-af72-410d-8933-e7112df8994c",
   "metadata": {},
   "source": [
    "**2.2 The null and alternative hypothesis**<br>\n",
    "Let $p_1,p_2$ be the proportions of convertions on the new and old landing page respectively.\n",
    "\n",
    "We will test the null hypothesis\n",
    "\n",
    ">$H_0:p_1 <=p_2$\n",
    "\n",
    "Against the alternate hypothesis\n",
    "\n",
    ">$H_a:p_1 > p_2$"
   ]
  },
  {
   "cell_type": "markdown",
   "id": "4209e4c9-8e9d-4f79-8c82-5bb8ff7025bc",
   "metadata": {},
   "source": [
    "**2.3 Test Selection**<br>\n",
    "check whether np and n(1-p) are greater than or equal to 10. Here, n and p refer to the sample size and sample proportion respectively.\n",
    ">$np_1 = 50\\cdot \\frac{17}{50} =17 \\geq 10$\n",
    "\n",
    ">$n(1-p_1) = 50 \\cdot \\frac{50-17}{50} = 33 \\geq 10$\n",
    "\n",
    ">$np_2 = 50\\cdot \\frac{29}{50} =29 \\geq 10$\n",
    "\n",
    ">$n(1-p_2) = 50 \\cdot \\frac{50-29}{50} = 21 \\geq 10 $\n",
    "\n",
    "Being the variables of conversion rate (converted : ['no' 'yes']) and the the version of the landing page (landing_page : ['old' 'new']), both a binomally distributed populations, we are informed that the collected sample is a simple random sample, and the binomial distribution can be approximated to normal distribution (np and n(1-p) >10), then the right test is **TWO PROPORTION Z-TEST.**<br>\n"
   ]
  },
  {
   "cell_type": "markdown",
   "id": "ce95bd74-1e59-4313-9b24-14b2124da6d2",
   "metadata": {},
   "source": [
    "**2.4 Data preparation and Test Excecution**"
   ]
  },
  {
   "cell_type": "code",
   "execution_count": null,
   "id": "35fb2524-f51c-49d7-b0d4-735cad078576",
   "metadata": {},
   "outputs": [],
   "source": [
    "# set the counts convertions\n",
    "convert_count = np.array([33, 21])\n",
    "\n",
    "# set the sample sizes\n",
    "nobs = np.array([50, 50])\n",
    "\n",
    "# find the p-value\n",
    "test_stat, p_value = stats_sp.proportions_ztest(convert_count, nobs, alternative='larger')\n",
    "print('The p-value is ' + str(p_value))\n",
    "\n",
    "if p_value>alpha:\n",
    "    print ('''Since p-value is larger than significance level, we FAIL TO REJECT \n",
    "the null hypothesis that the proportion of convertions on the new landing page is smaller than the proportion of convertions on the old landing page.''',end='\\n\\n')\n",
    "else:\n",
    "    print ('''Since p-value is smaller than significance level, we REJECT \n",
    "the null hypothesis that the proportion of convertions on the new landing page is smaller than the proportion of convertions on the old landing page.''',end='\\n\\n')"
   ]
  },
  {
   "cell_type": "markdown",
   "id": "f21d3d28-e37d-4bdd-be45-8fdcd06b9199",
   "metadata": {},
   "source": [
    "### ANSWER 2\r\n",
    "Is the conversion rate (the proportion of users who visit the landing page and get converted) for the new page greater than the conversion rate for the old page?<br>\r\n",
    "\r\n",
    "* For the visualization, the conversion rate for the new page is greater than for the old page. This has to be verified statistically.\r\n",
    "* Being the variables of conversion rate (converted : ['no' 'yes']) and the the version of the landing page (landing_page : ['old' 'new']), both a binomally distributed populations, we are informed that the collected sample is a simple random sample, and the binomial distribution can be approximated to normal distribution, then the right test is **TWO PROPORTION Z-TEST**.\r\n",
    "* Since p-value is smaller than significance level, we **REJECT the null hypothesis** that the proportion of convertions on the new landing page is smaller than the proportion of convertions on the old landing page.<br>\r\n",
    "\r\n",
    "**Then, the evidence in the sample is strong enough to conclude that the proportion of users who visit the landing page and get converted is greater for the new page than the conversion rate for the old page**\r\n"
   ]
  },
  {
   "cell_type": "markdown",
   "id": "d49bfa2d",
   "metadata": {
    "id": "d49bfa2d"
   },
   "source": [
    "## 3. Is the conversion and preferred language are independent or related?"
   ]
  },
  {
   "cell_type": "markdown",
   "id": "14e34d8a-8fcc-4f05-a1de-b2d362189368",
   "metadata": {},
   "source": [
    "**3.1 Visualization**"
   ]
  },
  {
   "cell_type": "code",
   "execution_count": null,
   "id": "b0e63f17",
   "metadata": {
    "id": "b0e63f17"
   },
   "outputs": [],
   "source": [
    "# Check relation of convertion rate with language_preferred type\n",
    "conv_lang=pd.crosstab(df['language_preferred'],df['converted'],normalize='index')\n",
    "conv_lang.plot.bar(stacked=True);\n",
    "conv_lang.sort_values(by='yes', ascending=False)"
   ]
  },
  {
   "cell_type": "code",
   "execution_count": null,
   "id": "8b553ef1-d698-4eeb-8b58-dd82f38f77ff",
   "metadata": {},
   "outputs": [],
   "source": [
    "conv_lang_count=pd.crosstab(df['language_preferred'],df['converted'])\n",
    "conv_lang_count"
   ]
  },
  {
   "cell_type": "markdown",
   "id": "27354a9e-a3bf-49c2-979c-57f4428217b4",
   "metadata": {},
   "source": [
    "**3.2 The null and alternative hypothesis**<br>\n",
    "\n",
    "We will test the null hypothesis\n",
    "\n",
    ">$H_0:$ Conversion rate is independent of language.\n",
    "\n",
    "against the alternate hypothesis\n",
    "\n",
    ">$H_a:$ Conversion rate depends of language."
   ]
  },
  {
   "cell_type": "markdown",
   "id": "8cc482ce-6880-43cd-b5e8-c0f19cd2f78a",
   "metadata": {},
   "source": [
    "**3.3 Test Selection**<br>\n",
    "Being the both variables a categorical variables, with a number of sample observations in each level of the variable is at least 5, and we are informed that the collected sample is a simple random sample, then the right test is CHI-SQUARE TEST FOR INDEPENDENCE.<br><br>\n",
    "**3.4 Data preparation and Test Excecution**"
   ]
  },
  {
   "cell_type": "code",
   "execution_count": null,
   "id": "b5ee88e1-2f96-461a-a85f-e83404e92393",
   "metadata": {},
   "outputs": [],
   "source": [
    "# find the p-value\n",
    "chi, p_value, dof, expected = stats.chi2_contingency(conv_lang_count)\n",
    "print('The p-value is', p_value)\n",
    "if p_value>alpha:\n",
    "    print ('''Since p-value is larger than significance level, we FAIL TO REJECT \n",
    "the null hypothesis that the conversion rate is independent of language.''',end='\\n\\n')\n",
    "else:\n",
    "    print ('''Since p-value is smaller than significance level, we REJECT \n",
    "the null hypothesis that the conversion rate is independent of language.''',end='\\n\\n')"
   ]
  },
  {
   "cell_type": "markdown",
   "id": "6f24b379-466b-4770-ba0e-b32b0b7ace2f",
   "metadata": {},
   "source": [
    "### ANSWER 3\n",
    "Does the converted status depend on the preferred language?\n",
    "\n",
    "* Based on the visualization, it seems there is no dependency on conversion rate and preferred language. This has to be verified statistically.\n",
    "* Being the both variables a categorical variables, with a number of sample observations in each level of the variable is at least 5, and we are informed that the collected sample is a simple random sample, then the right test is **CHI-SQUARE TEST FOR INDEPENDENCE**.\n",
    "* Since p-value is larger than significance level, we **FAIL TO REJECT the null hypothesis** that the conversion rate is independent of language.<br>\n",
    "\n",
    "**Then, the evidence in the sample is strong enough to conclude that conversion and preferred language are independent variables.**"
   ]
  },
  {
   "cell_type": "markdown",
   "id": "8d585a90",
   "metadata": {
    "id": "8d585a90"
   },
   "source": [
    "## 4. Is the time spent on the new page same for the different language users?"
   ]
  },
  {
   "cell_type": "markdown",
   "id": "8daa538c-b1f5-4232-939d-57c9c0191856",
   "metadata": {},
   "source": [
    "**4.1 Visualization**"
   ]
  },
  {
   "cell_type": "code",
   "execution_count": null,
   "id": "b422f395",
   "metadata": {
    "id": "b422f395"
   },
   "outputs": [],
   "source": [
    "# visual analysis\n",
    "# we will use again the variable already defined before \"time_new\"\n",
    "# time_new=df['time_spent_on_the_page'][df['landing_page']=='new']\n",
    "\n",
    "f, axs = plt.subplots(2, 2, figsize=(10, 10),gridspec_kw=dict(width_ratios=[1,1]))\n",
    "sns.boxplot(data=df, x='landing_page',y=time_new,ax=axs[0,0])\n",
    "sns.boxplot(data=df, x='language_preferred',y=time_new,ax=axs[0,1])\n",
    "sns.boxplot(data=df, x='group',y=time_new,ax=axs[1,0])\n",
    "sns.boxplot(data=df, x='converted',y=time_new,ax=axs[1,1])\n",
    "f.tight_layout()"
   ]
  },
  {
   "cell_type": "markdown",
   "id": "e015220b-5d3e-4a67-bdac-9b5235e728fb",
   "metadata": {},
   "source": [
    "**4.2 The null and alternative hypothesis**<br>\n",
    "Let $\\mu_1$ be the mean time spend on the new landing page in Spanish.<br>\n",
    "Let $\\mu_2$ be the mean time spend on the new landing page in English.<br>\n",
    "Let $\\mu_3$ be the mean time spend on the new landing page in French.<br>\n",
    "\n",
    "We will test the null hypothesis\n",
    "\n",
    ">$H_0:\\mu_1 = \\mu_2 = \\mu_3$\n",
    "\n",
    "against the alternate hypothesis\n",
    "\n",
    ">$H_a:$ The mean time spend on the new landing page is different in at least one language\n",
    "\n",
    "**4.3 Test Selection**<br>"
   ]
  },
  {
   "cell_type": "code",
   "execution_count": null,
   "id": "b0f820db-9bcf-40f1-859c-246ff18d7a92",
   "metadata": {},
   "outputs": [],
   "source": [
    "# Check for normality\n",
    "for i in df['language_preferred'].unique():\n",
    "    w,p=stats.shapiro(df['time_spent_on_the_page'][(df['landing_page']=='new')&(df['language_preferred']==i)])\n",
    "    print(f\"The p-value for the distribution of Time time spend on the NEW page in {i} is: \",round(p,4))\n",
    "    if p>alpha:\n",
    "        print(f'''Since p-value is larger than significance level, we FAIL TO REJECT\n",
    "the null hypothesis that the Time time spend on the NEW page in {i} follows the normal distribution.''',end='\\n''\\n')\n",
    "    else:\n",
    "        print(f'''Since p-value is smaller than significance level, we REJECT\n",
    "the null hypothesis that the Time time spend on the NEW page in {i} follows the normal distribution.''',end='\\n''\\n')\n",
    "\n"
   ]
  },
  {
   "cell_type": "code",
   "execution_count": null,
   "id": "06b44220-4db2-48a5-99aa-df7e3b064619",
   "metadata": {},
   "outputs": [],
   "source": [
    "# check for equality of variances\n",
    "level_sp=df['time_spent_on_the_page'][(df['landing_page']=='new')&(df['language_preferred']=='Spanish')]\n",
    "level_en=df['time_spent_on_the_page'][(df['landing_page']=='new')&(df['language_preferred']=='English')]\n",
    "level_fr=df['time_spent_on_the_page'][(df['landing_page']=='new')&(df['language_preferred']=='French')]\n",
    "\n",
    "levene_stat,levene_p_val=stats.levene(level_sp,level_en,level_fr)\n",
    "print(f\"Levene's test for equality of variances p-value = {levene_p_val}\")\n",
    "\n",
    "if levene_p_val>alpha:\n",
    "    print (\"Since p-value is larger than significance level, we FAIL TO REJECT the null hypothesis of homogeneity of variances.\")\n",
    "else:\n",
    "    print (\"Since p-value is smaller than significance level, we REJECT the null hypothesis of homogeneity of variances.\")\n",
    "\n"
   ]
  },
  {
   "cell_type": "markdown",
   "id": "c6dff536-fe39-401a-9964-375adeb5a8b3",
   "metadata": {},
   "source": [
    "Being all three variables normally distributed (verified using the Shapiro-Wilk’s test), with equal population variances (verified using the Levene's test), and we are informed that the collected sample is a simple random sample, then the right test is **One-way ANOVA Test**\".<br><br>\n",
    "**4.4 Data preparation and Test Excecution**"
   ]
  },
  {
   "cell_type": "code",
   "execution_count": null,
   "id": "5bd955cd-0337-4637-9542-ccf7898b3076",
   "metadata": {},
   "outputs": [],
   "source": [
    "# Contuncting test\n",
    "\n",
    "ANOVA_test_stat, ANOVA_p_value = stats.f_oneway(level_sp,level_en,level_fr)\n",
    "\n",
    "print(f\"ANOVA test p-value = {ANOVA_p_value}\")\n",
    "\n",
    "if ANOVA_p_value>alpha:\n",
    "    print (\"Since p-value is larger than significance level, we FAIL TO REJECT the null hypothesis of time spent on the new page is the same for the different language users.\")\n",
    "else:\n",
    "    print (\"Since p-value is smaller than significance level, we REJECT the null hypothesis of time spent on the new page is the same for the different language users.\")"
   ]
  },
  {
   "cell_type": "markdown",
   "id": "ec588cdb-9b14-4b27-af2d-11fd86ddbc04",
   "metadata": {},
   "source": [
    "### ANSWER 4\n",
    "Is the time spent on the new page the same for the different language users?<br>\n",
    "\n",
    "* From the visualization, the mean time spend on the new page is not the same for the different languages, nevertheless, the IQR are quite similar, then to reach a conclusion is needed to perform further statistical analysis.\n",
    "* Being all three variables normally distributed (verified using the Shapiro-Wilk’s test), with equal population variances (verified using the Levene's test), and we are informed that the collected sample is a simple random sample, then the right test is **One-way ANOVA Test\"**.\n",
    "* Since p-value is larger than significance level, we **FAIL TO REJECT the null hypothesis** of time spent on the new page is the same for the different language users.<br>\n",
    "\n",
    "**The evidence in the sample is strong enough to conclude that time spent on the new page is the same for the different language users.**"
   ]
  },
  {
   "cell_type": "markdown",
   "id": "3acbc947",
   "metadata": {
    "id": "3acbc947"
   },
   "source": [
    "## Conclusion and Business Recommendations"
   ]
  },
  {
   "cell_type": "markdown",
   "id": "2cb912d1-2937-4d2e-96dd-f433569a32d4",
   "metadata": {},
   "source": [
    "* The new landing page created by the design team of the company has a new outline & more relevant content shown compared to the old page.\r\n",
    "* The new landing page outline & recommended content keep customers engaged longer time compared to the old page.\r\n",
    "* The new landing page conversion rate (the proportion of users who visit the landing page and get converted) for the new page greater than the conversion rate for the old page\r\n",
    "* The evidence in the sample is strong enough to conclude: \r\n",
    "\t* Users efectively spend more time on the new landing page.\r\n",
    "\t* The proportion of users who visit the landing page and get converted is greater for the new page.\r\n",
    "\t* There is no dependency on conversion rate and preferred language.\r\n",
    "\t* Time spent on the new page is the same for the different language users.\r\n",
    "* **The new landing page is more effective in gathering new subscribers for the news portal.**\r\n",
    "* **From Data Science team perspective, the new landing page is ready for move into production.**"
   ]
  },
  {
   "cell_type": "markdown",
   "id": "U0dAd4i0iCHo",
   "metadata": {
    "id": "U0dAd4i0iCHo"
   },
   "source": [
    "___"
   ]
  }
 ],
 "metadata": {
  "colab": {
   "collapsed_sections": [
    "6970dd99",
    "9d75cfa2",
    "68f3b2c9",
    "fad2de2f",
    "27906576",
    "e5fdf0c8",
    "56b3dafd",
    "c7ee4907",
    "3f58c9a7",
    "5fed2eac",
    "f5c5258d",
    "359b12f8",
    "d9affc84",
    "353e9d24",
    "d49bfa2d",
    "8d585a90",
    "3acbc947"
   ],
   "provenance": []
  },
  "kernelspec": {
   "display_name": "Python 3 (ipykernel)",
   "language": "python",
   "name": "python3"
  },
  "language_info": {
   "codemirror_mode": {
    "name": "ipython",
    "version": 3
   },
   "file_extension": ".py",
   "mimetype": "text/x-python",
   "name": "python",
   "nbconvert_exporter": "python",
   "pygments_lexer": "ipython3",
   "version": "3.11.7"
  }
 },
 "nbformat": 4,
 "nbformat_minor": 5
}
